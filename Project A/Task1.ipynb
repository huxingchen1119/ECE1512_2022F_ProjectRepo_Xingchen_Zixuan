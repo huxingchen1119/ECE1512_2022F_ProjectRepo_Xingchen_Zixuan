{
 "cells": [
  {
   "cell_type": "markdown",
   "metadata": {
    "id": "6WYMfvCNPwpm"
   },
   "source": [
    "# Project A: Knowledge Distillation for Building Lightweight Deep Learning Models in Visual Classification Tasks"
   ]
  },
  {
   "cell_type": "code",
   "execution_count": 1,
   "metadata": {
    "id": "vA8ppgB2P0aJ"
   },
   "outputs": [],
   "source": [
    "import tensorflow.compat.v2 as tf\n",
    "import math\n",
    "import numpy as np\n",
    "import tensorflow_datasets as tfds\n",
    "from typing import Union\n",
    "from tensorflow import keras\n",
    "import keras.backend as K\n",
    "tf.enable_v2_behavior()\n",
    "l = tf.keras.layers\n",
    "builder = tfds.builder('mnist')\n",
    "BATCH_SIZE = 256\n",
    "learning_rate = 1e-3\n",
    "NUM_EPOCHS = 12\n",
    "NUM_CLASSES = 10  # 10 total classes.\n",
    "tf.random.set_seed(42)\n",
    "tf.keras.utils.set_random_seed(42)\n",
    "np.random.seed(42)"
   ]
  },
  {
   "cell_type": "markdown",
   "metadata": {
    "id": "H2EFLQROP2R7"
   },
   "source": [
    "# Data loading"
   ]
  },
  {
   "cell_type": "code",
   "execution_count": 2,
   "metadata": {
    "colab": {
     "base_uri": "https://localhost:8080/",
     "height": 84,
     "referenced_widgets": [
      "1fbb0858fffe46bb8a319b18b3923beb",
      "ad60e87297a94b24a4c0d44161889024",
      "6b60482068ee4f359a1f0850fce13c11",
      "d5af779547be4036b9fa0a61fc489965",
      "c26d60906d634a4699c7d9bf7bf3054c",
      "4990887cab864d449e8a9363eff9b450",
      "00e69fae76e04e2e96769c640529d8d5",
      "180de5e74f3a4584808d3eb2668bb850",
      "4604af314e91425e83abbe3361246ec5",
      "d2d352ab14654b83b36b955083374158",
      "c9528900512c46aa9f2a5663c5c7181b"
     ]
    },
    "id": "ynByMG_UP4A4",
    "outputId": "cbfe532b-3d12-4a4e-c60e-cb0e9578897c"
   },
   "outputs": [
    {
     "name": "stdout",
     "output_type": "stream",
     "text": [
      "\u001b[1mDownloading and preparing dataset 11.06 MiB (download: 11.06 MiB, generated: 21.00 MiB, total: 32.06 MiB) to ~/tensorflow_datasets/mnist/3.0.1...\u001b[0m\n"
     ]
    },
    {
     "data": {
      "application/vnd.jupyter.widget-view+json": {
       "model_id": "1fbb0858fffe46bb8a319b18b3923beb",
       "version_major": 2,
       "version_minor": 0
      },
      "text/plain": [
       "Dl Completed...:   0%|          | 0/4 [00:00<?, ? file/s]"
      ]
     },
     "metadata": {},
     "output_type": "display_data"
    },
    {
     "name": "stdout",
     "output_type": "stream",
     "text": [
      "\u001b[1mDataset mnist downloaded and prepared to ~/tensorflow_datasets/mnist/3.0.1. Subsequent calls will reuse this data.\u001b[0m\n"
     ]
    }
   ],
   "source": [
    "# Load train and test splits.\n",
    "def preprocess(x):\n",
    "    image = tf.image.convert_image_dtype(x['image'], tf.float32)\n",
    "    subclass_labels = tf.one_hot(x['label'], builder.info.features['label'].num_classes)\n",
    "    return image, subclass_labels\n",
    "\n",
    "def get_flops():\n",
    "    run_meta = tf.compat.v1.RunMetadata()\n",
    "    opts = tf.compat.v1.profiler.ProfileOptionBuilder.float_operation()\n",
    "\n",
    "    # We use the Keras session graph in the call to the profiler.\n",
    "    flops = tf.compat.v1.profiler.profile(graph=K.get_session().graph,\n",
    "                                run_meta=run_meta, cmd='op', options=opts)\n",
    "\n",
    "    return flops.total_float_ops  # Prints the \"flops\" of the model.\n",
    "\n",
    "mnist_train = tfds.load('mnist', split='train', shuffle_files=False).cache()\n",
    "mnist_train = mnist_train.map(preprocess)\n",
    "mnist_train = mnist_train.shuffle(builder.info.splits['train'].num_examples)\n",
    "mnist_train = mnist_train.batch(BATCH_SIZE, drop_remainder=True)\n",
    "\n",
    "mnist_test = tfds.load('mnist', split='test').cache()\n",
    "mnist_test = mnist_test.map(preprocess).batch(BATCH_SIZE)"
   ]
  },
  {
   "cell_type": "markdown",
   "metadata": {
    "id": "kAZwfvW5P63q"
   },
   "source": [
    "# Model creation"
   ]
  },
  {
   "cell_type": "code",
   "execution_count": 3,
   "metadata": {
    "id": "zINgDkA7P7BP"
   },
   "outputs": [],
   "source": [
    "#@test {\"output\": \"ignore\"}\n",
    "# Build CNN teacher.\n",
    "cnn_model = tf.keras.Sequential([l.Conv2D(input_shape=(28,28,1), filters=32, kernel_size=3, strides=1, activation='relu'),\n",
    "                                l.MaxPooling2D(pool_size=(2, 2), strides=(1, 1), padding='valid'),\n",
    "                                l.Conv2D(input_shape=(28,28,1), filters=64, kernel_size=3, strides=1, activation='relu'),\n",
    "                                l.MaxPooling2D(pool_size=(2, 2), strides=(2, 2), padding='valid'),\n",
    "                                l.Flatten(),\n",
    "                                l.Dropout(0.5),\n",
    "                                l.Dense(128, activation='relu'),\n",
    "                                l.Dropout(0.5),\n",
    "                                l.Dense(NUM_CLASSES)])\n",
    "                                \n",
    "\n",
    "# your code start from here for stpe 2\n",
    "# Build fully connected student.\n",
    "fc_model = tf.keras.Sequential([l.Flatten(),\n",
    "                                l.Dense(784, activation='relu'),\n",
    "                                l.Dense(784, activation='relu'),\n",
    "                                l.Dense(NUM_CLASSES)])\n",
    "\n",
    "\n",
    "# your code start from here for step 2"
   ]
  },
  {
   "cell_type": "markdown",
   "metadata": {
    "id": "8JWGucyrQGav"
   },
   "source": [
    "# Teacher loss function"
   ]
  },
  {
   "cell_type": "code",
   "execution_count": 4,
   "metadata": {
    "id": "DhzBP6ZLQJ57"
   },
   "outputs": [],
   "source": [
    "#@tf.function\n",
    "def compute_teacher_loss(images, labels):\n",
    "#   \"\"\"Compute subclass knowledge distillation teacher loss for given images\n",
    "#      and labels.\n",
    "\n",
    "#   Args:\n",
    "#     images: Tensor representing a batch of images.\n",
    "#     labels: Tensor representing a batch of labels.\n",
    "\n",
    "#   Returns:\n",
    "#     Scalar loss Tensor.\n",
    "#   \"\"\"\n",
    "    subclass_logits = cnn_model(images, training=True)\n",
    "    # Compute cross-entropy loss for subclasses.\n",
    "\n",
    "    # your code start from here for step 3\n",
    "    cross_entropy_loss_value = tf.reduce_mean(\n",
    "      tf.nn.softmax_cross_entropy_with_logits(\n",
    "          labels, subclass_logits))\n",
    "\n",
    "\n",
    "    return cross_entropy_loss_value"
   ]
  },
  {
   "cell_type": "markdown",
   "metadata": {
    "id": "JS8xkuH0QbOS"
   },
   "source": [
    "# Student loss function"
   ]
  },
  {
   "cell_type": "code",
   "execution_count": 21,
   "metadata": {
    "id": "lDKia4gPQMIr"
   },
   "outputs": [],
   "source": [
    "#@test {\"output\": \"ignore\"}\n",
    "\n",
    "# Hyperparameters for distillation (need to be tuned).\n",
    "ALPHA = 0.5 # task balance between cross-entropy and distillation loss\n",
    "DISTILLATION_TEMPERATURE = 64 #temperature hyperparameter\n",
    "\n",
    "def distillation_loss(teacher_logits, student_logits, temperature = DISTILLATION_TEMPERATURE):\n",
    "#     \"\"\"Compute distillation loss.\n",
    "\n",
    "#     This function computes cross entropy between softened logits and softened\n",
    "#     targets. The resulting loss is scaled by the squared temperature so that\n",
    "#     the gradient magnitude remains approximately constant as the temperature is\n",
    "#     changed. For reference, see Hinton et al., 2014, \"Distilling the knowledge in\n",
    "#     a neural network.\"\n",
    "\n",
    "#     Args:\n",
    "#     teacher_logits: A Tensor of logits provided by the teacher.\n",
    "#     student_logits: A Tensor of logits provided by the student, of the same\n",
    "#       shape as `teacher_logits`.\n",
    "#     temperature: Temperature to use for distillation.\n",
    "\n",
    "#     Returns:\n",
    "#     A scalar Tensor containing the distillation loss.\n",
    "#     \"\"\"\n",
    "    # your code start from here for step 3\n",
    "    soft_targets = tf.nn.softmax(teacher_logits/temperature, axis = 1)\n",
    "    \n",
    "    return tf.reduce_mean(\n",
    "      tf.nn.softmax_cross_entropy_with_logits(\n",
    "          soft_targets, student_logits / temperature)) * temperature ** 2\n",
    "\n",
    "def compute_student_loss(images, labels):\n",
    "#     \"\"\"Compute subclass knowledge distillation student loss for given images\n",
    "#     and labels.\n",
    "\n",
    "#     Args:\n",
    "#     images: Tensor representing a batch of images.\n",
    "#     labels: Tensor representing a batch of labels.\n",
    "\n",
    "#     Returns:\n",
    "#     Scalar loss Tensor.\n",
    "#     \"\"\"\n",
    "    student_subclass_logits = fc_model(images, training=True)\n",
    "\n",
    "    # Compute subclass distillation loss between student subclass logits and\n",
    "    # softened teacher subclass targets probabilities.\n",
    "\n",
    "    # your code start from here for step 3\n",
    "\n",
    "    teacher_subclass_logits = cnn_model(images, training=False)\n",
    "    distillation_loss_value = distillation_loss(teacher_subclass_logits, student_subclass_logits, DISTILLATION_TEMPERATURE)\n",
    "\n",
    "    # Compute cross-entropy loss with hard targets.\n",
    "\n",
    "    # your code start from here for step 3\n",
    "\n",
    "    cross_entropy_loss_value = tf.reduce_mean(\n",
    "      tf.nn.softmax_cross_entropy_with_logits(\n",
    "          labels, student_subclass_logits))\n",
    "    \n",
    "    total_loss = cross_entropy_loss_value * ALPHA + (1 - ALPHA) * distillation_loss_value\n",
    "\n",
    "    return total_loss"
   ]
  },
  {
   "cell_type": "markdown",
   "metadata": {
    "id": "RJ1uyvurQ3w4"
   },
   "source": [
    "# Train and evaluation"
   ]
  },
  {
   "cell_type": "code",
   "execution_count": 24,
   "metadata": {
    "id": "EtoLbp8uQ4Vl"
   },
   "outputs": [],
   "source": [
    "#@tf.function\n",
    "def tf_reduceat(data, at_array, axis=-1):\n",
    "    split_data = tf.split(data, at_array, axis=axis)\n",
    "    return tf.stack([tf.reduce_sum(i, axis=axis) for i in split_data], axis=axis)\n",
    "    \n",
    "def compute_num_correct(model, images, labels):\n",
    "#     \"\"\"Compute number of correctly classified images in a batch.\n",
    "\n",
    "#     Args:\n",
    "#     model: Instance of tf.keras.Model.\n",
    "#     images: Tensor representing a batch of images.\n",
    "#     labels: Tensor representing a batch of labels.\n",
    "\n",
    "#     Returns:\n",
    "#     Number of correctly classified images.\n",
    "#     \"\"\"\n",
    "    class_logits = model(images, training=False)\n",
    "    if class_logits.shape[1] != NUM_CLASSES:\n",
    "        class_logits = tf_reduceat(class_logits, [2, 2, 1, 1, 1, 1, 2, 2, 1, 2])\n",
    "        \n",
    "    return tf.reduce_sum(\n",
    "      tf.cast(tf.math.equal(tf.argmax(class_logits, -1), tf.argmax(labels, -1)),\n",
    "              tf.float32)), tf.argmax(class_logits, -1), tf.argmax(labels, -1)\n",
    "\n",
    "\n",
    "def train_and_evaluate(model, compute_loss_fn, learning_rate):\n",
    "#     \"\"\"Perform training and evaluation for a given model.\n",
    "\n",
    "#     Args:\n",
    "#     model: Instance of tf.keras.Model.\n",
    "#     compute_loss_fn: A function that computes the training loss given the\n",
    "#       images, and labels.\n",
    "#     \"\"\"\n",
    "\n",
    "    # your code start from here for step 4\n",
    "    optimizer = keras.optimizers.Adam(learning_rate=learning_rate)\n",
    "    for epoch in range(1, NUM_EPOCHS + 1):\n",
    "        # Run training.\n",
    "        print('Epoch {}: '.format(epoch), end='')\n",
    "        for images, labels in mnist_train:\n",
    "            with tf.GradientTape() as tape:\n",
    "                # your code start from here for step 4\n",
    "\n",
    "                loss_value = compute_loss_fn(images, labels)\n",
    "\n",
    "            grads = tape.gradient(loss_value, model.trainable_weights)\n",
    "            optimizer.apply_gradients(zip(grads, model.trainable_variables))\n",
    "\n",
    "\n",
    "    # Run evaluation.\n",
    "    num_correct = 0\n",
    "    num_total = builder.info.splits['test'].num_examples\n",
    "    for images, labels in mnist_test:\n",
    "        # your code start from here for step 4\n",
    "        num_correct += compute_num_correct(model, images, labels)[0].numpy()\n",
    "    print(\"Class_accuracy: \" + '{:.2f}%'.format(\n",
    "        num_correct / num_total * 100))\n",
    "    return num_correct / num_total * 100\n"
   ]
  },
  {
   "cell_type": "markdown",
   "metadata": {
    "id": "NQL1lJdaRPT1"
   },
   "source": [
    "# Training models"
   ]
  },
  {
   "cell_type": "code",
   "execution_count": 23,
   "metadata": {
    "colab": {
     "base_uri": "https://localhost:8080/"
    },
    "id": "-AGHbyABRPz3",
    "outputId": "0a4ea3d8-130d-4949-9b75-175463a23199"
   },
   "outputs": [
    {
     "name": "stdout",
     "output_type": "stream",
     "text": [
      "Start training teacher model\n",
      "Epoch 1: Epoch 2: Epoch 3: Epoch 4: Epoch 5: Epoch 6: Epoch 7: Epoch 8: Epoch 9: Epoch 10: Epoch 11: Epoch 12: Class_accuracy: 99.31%\n",
      "Test accuracy for teacher model is 99.31\n",
      "-------------------------------------\n",
      "Start training student model\n",
      "64\n",
      "Epoch 1: Epoch 2: Epoch 3: Epoch 4: Epoch 5: Epoch 6: Epoch 7: Epoch 8: Epoch 9: Epoch 10: Epoch 11: Epoch 12: Class_accuracy: 98.92%\n",
      "Test accuracy for student model is 98.92\n"
     ]
    }
   ],
   "source": [
    "# your code start from here for step 5 \n",
    "print('Start training teacher model')\n",
    "test_acc_cnn = train_and_evaluate(cnn_model, compute_teacher_loss,learning_rate)\n",
    "print('Test accuracy for teacher model is {}'.format(test_acc_cnn))\n",
    "print('-------------------------------------')\n",
    "print('Start training student model')\n",
    "print(DISTILLATION_TEMPERATURE)\n",
    "test_acc_fc = train_and_evaluate(fc_model, compute_student_loss, learning_rate)\n",
    "print('Test accuracy for student model is {}'.format(test_acc_fc))"
   ]
  },
  {
   "cell_type": "markdown",
   "metadata": {
    "id": "sj1N38fnRTNB"
   },
   "source": [
    "# Test accuracy vs. tempreture curve"
   ]
  },
  {
   "cell_type": "code",
   "execution_count": null,
   "metadata": {
    "colab": {
     "base_uri": "https://localhost:8080/"
    },
    "id": "gX4dbazrRWIz",
    "outputId": "caf5834e-0b27-4b6b-ae05-109cd0b96c0e"
   },
   "outputs": [
    {
     "name": "stdout",
     "output_type": "stream",
     "text": [
      "Epoch 1: Epoch 2: Epoch 3: Epoch 4: Epoch 5: Epoch 6: Epoch 7: Epoch 8: Epoch 9: Epoch 10: Epoch 11: Epoch 12: Class_accuracy: 98.18%\n",
      "Epoch 1: Epoch 2: Epoch 3: Epoch 4: Epoch 5: Epoch 6: Epoch 7: Epoch 8: Epoch 9: Epoch 10: Epoch 11: Epoch 12: Class_accuracy: 98.40%\n",
      "Epoch 1: Epoch 2: Epoch 3: Epoch 4: Epoch 5: Epoch 6: Epoch 7: Epoch 8: Epoch 9: Epoch 10: Epoch 11: Epoch 12: Class_accuracy: 98.65%\n",
      "Epoch 1: Epoch 2: Epoch 3: Epoch 4: Epoch 5: Epoch 6: Epoch 7: Epoch 8: Epoch 9: Epoch 10: Epoch 11: Epoch 12: Class_accuracy: 98.71%\n",
      "Epoch 1: Epoch 2: Epoch 3: Epoch 4: Epoch 5: Epoch 6: Epoch 7: Epoch 8: Epoch 9: Epoch 10: Epoch 11: Epoch 12: Class_accuracy: 98.77%\n",
      "Epoch 1: Epoch 2: Epoch 3: Epoch 4: Epoch 5: Epoch 6: Epoch 7: Epoch 8: Epoch 9: Epoch 10: Epoch 11: Epoch 12: Class_accuracy: 98.87%\n"
     ]
    }
   ],
   "source": [
    "temperature_set = [1,2,4,16,32,64]\n",
    "test_acc_set = []\n",
    "for temp in temperature_set:\n",
    "    fc_model = tf.keras.Sequential([l.Flatten(),\n",
    "                                l.Dense(784, activation='relu'),\n",
    "                                l.Dense(784, activation='relu'),\n",
    "                                l.Dense(NUM_CLASSES)])\n",
    "    DISTILLATION_TEMPERATURE = temp\n",
    "    test_acc_i = train_and_evaluate(fc_model, compute_student_loss, learning_rate)\n",
    "    test_acc_set.append(test_acc_i)"
   ]
  },
  {
   "cell_type": "code",
   "execution_count": null,
   "metadata": {
    "colab": {
     "base_uri": "https://localhost:8080/",
     "height": 295
    },
    "id": "trAwAhzawPUY",
    "outputId": "5b8e5aae-765f-4b5f-f54d-0b5d7e50f58a"
   },
   "outputs": [
    {
     "data": {
      "image/png": "[encoded data removed]",
      "text/plain": [
       "<Figure size 432x288 with 1 Axes>"
      ]
     },
     "metadata": {
      "needs_background": "light"
     },
     "output_type": "display_data"
    }
   ],
   "source": [
    "import matplotlib.pyplot as plt\n",
    "\n",
    "plt.plot(temperature_set, test_acc_set)\n",
    "\n",
    "plt.xlabel('Temperature Values')\n",
    "plt.ylabel('Test Accuracy')    \n",
    "plt.title('Test Accuracy vs. Temperature Values')\n",
    "plt.show()"
   ]
  },
  {
   "cell_type": "markdown",
   "metadata": {
    "id": "WNrH_1emRbGA"
   },
   "source": [
    "# Train student from scratch"
   ]
  },
  {
   "cell_type": "code",
   "execution_count": null,
   "metadata": {
    "colab": {
     "base_uri": "https://localhost:8080/"
    },
    "id": "HjospsxIRbQ6",
    "outputId": "5f477b5a-8d1f-45f6-df7d-a91468fa68b5"
   },
   "outputs": [
    {
     "name": "stdout",
     "output_type": "stream",
     "text": [
      "Epoch 1: Epoch 2: Epoch 3: Epoch 4: Epoch 5: Epoch 6: Epoch 7: Epoch 8: Epoch 9: Epoch 10: Epoch 11: Epoch 12: Class_accuracy: 98.19%\n"
     ]
    },
    {
     "data": {
      "text/plain": [
       "98.19"
      ]
     },
     "execution_count": 10,
     "metadata": {},
     "output_type": "execute_result"
    }
   ],
   "source": [
    "# Build fully connected student.\n",
    "fc_model_no_distillation = tf.keras.Sequential([l.Flatten(),\n",
    "                                l.Dense(784, activation='relu'),\n",
    "                                l.Dense(784, activation='relu'),\n",
    "                                l.Dense(NUM_CLASSES)])\n",
    "\n",
    "# your code start from here for step 7\n",
    "\n",
    "\n",
    "\n",
    "#@test {\"output\": \"ignore\"}\n",
    "\n",
    "def compute_plain_cross_entropy_loss(images, labels):\n",
    "#     \"\"\"Compute plain loss for given images and labels.\n",
    "\n",
    "#     For fair comparison and convenience, this function also performs a\n",
    "#     LogSumExp over subclasses, but does not perform subclass distillation.\n",
    "\n",
    "#     Args:\n",
    "#     images: Tensor representing a batch of images.\n",
    "#     labels: Tensor representing a batch of labels.\n",
    "\n",
    "#     Returns:\n",
    "#     Scalar loss Tensor.\n",
    "#     \"\"\"\n",
    "    # your code start from here for step 7\n",
    "\n",
    "    student_subclass_logits = fc_model_no_distillation(images, training=True)\n",
    "    cross_entropy_loss = tf.reduce_mean(\n",
    "      tf.nn.softmax_cross_entropy_with_logits(\n",
    "          labels, student_subclass_logits))\n",
    "\n",
    "    return cross_entropy_loss\n",
    "\n",
    "DISTILLATION_TEMPERATURE = 64\n",
    "train_and_evaluate(fc_model_no_distillation, compute_plain_cross_entropy_loss, learning_rate)"
   ]
  },
  {
   "cell_type": "markdown",
   "metadata": {
    "id": "yq3JTpQ4RuhR"
   },
   "source": [
    "# Comparing the teacher and student model (number of of parameters and FLOPs) "
   ]
  },
  {
   "cell_type": "code",
   "execution_count": null,
   "metadata": {
    "colab": {
     "base_uri": "https://localhost:8080/"
    },
    "id": "siFNORtRwPUZ",
    "outputId": "56f5c1e7-eb5f-4f98-ad8e-a53e7e3f93aa"
   },
   "outputs": [
    {
     "name": "stdout",
     "output_type": "stream",
     "text": [
      "Looking in indexes: https://pypi.org/simple, https://us-python.pkg.dev/colab-wheels/public/simple/\n",
      "Requirement already satisfied: keras_flops in /usr/local/lib/python3.7/dist-packages (0.1.2)\n",
      "Requirement already satisfied: tensorflow<3.0,>=2.2 in /usr/local/lib/python3.7/dist-packages (from keras_flops) (2.9.2)\n",
      "Requirement already satisfied: keras<2.10.0,>=2.9.0rc0 in /usr/local/lib/python3.7/dist-packages (from tensorflow<3.0,>=2.2->keras_flops) (2.9.0)\n",
      "Requirement already satisfied: flatbuffers<2,>=1.12 in /usr/local/lib/python3.7/dist-packages (from tensorflow<3.0,>=2.2->keras_flops) (1.12)\n",
      "Requirement already satisfied: keras-preprocessing>=1.1.1 in /usr/local/lib/python3.7/dist-packages (from tensorflow<3.0,>=2.2->keras_flops) (1.1.2)\n",
      "Requirement already satisfied: protobuf<3.20,>=3.9.2 in /usr/local/lib/python3.7/dist-packages (from tensorflow<3.0,>=2.2->keras_flops) (3.17.3)\n",
      "Requirement already satisfied: libclang>=13.0.0 in /usr/local/lib/python3.7/dist-packages (from tensorflow<3.0,>=2.2->keras_flops) (14.0.6)\n",
      "Requirement already satisfied: tensorboard<2.10,>=2.9 in /usr/local/lib/python3.7/dist-packages (from tensorflow<3.0,>=2.2->keras_flops) (2.9.1)\n",
      "Requirement already satisfied: gast<=0.4.0,>=0.2.1 in /usr/local/lib/python3.7/dist-packages (from tensorflow<3.0,>=2.2->keras_flops) (0.4.0)\n",
      "Requirement already satisfied: absl-py>=1.0.0 in /usr/local/lib/python3.7/dist-packages (from tensorflow<3.0,>=2.2->keras_flops) (1.3.0)\n",
      "Requirement already satisfied: typing-extensions>=3.6.6 in /usr/local/lib/python3.7/dist-packages (from tensorflow<3.0,>=2.2->keras_flops) (4.1.1)\n",
      "Requirement already satisfied: packaging in /usr/local/lib/python3.7/dist-packages (from tensorflow<3.0,>=2.2->keras_flops) (21.3)\n",
      "Requirement already satisfied: h5py>=2.9.0 in /usr/local/lib/python3.7/dist-packages (from tensorflow<3.0,>=2.2->keras_flops) (3.1.0)\n",
      "Requirement already satisfied: numpy>=1.20 in /usr/local/lib/python3.7/dist-packages (from tensorflow<3.0,>=2.2->keras_flops) (1.21.6)\n",
      "Requirement already satisfied: tensorflow-io-gcs-filesystem>=0.23.1 in /usr/local/lib/python3.7/dist-packages (from tensorflow<3.0,>=2.2->keras_flops) (0.27.0)\n",
      "Requirement already satisfied: six>=1.12.0 in /usr/local/lib/python3.7/dist-packages (from tensorflow<3.0,>=2.2->keras_flops) (1.15.0)\n",
      "Requirement already satisfied: wrapt>=1.11.0 in /usr/local/lib/python3.7/dist-packages (from tensorflow<3.0,>=2.2->keras_flops) (1.14.1)\n",
      "Requirement already satisfied: opt-einsum>=2.3.2 in /usr/local/lib/python3.7/dist-packages (from tensorflow<3.0,>=2.2->keras_flops) (3.3.0)\n",
      "Requirement already satisfied: termcolor>=1.1.0 in /usr/local/lib/python3.7/dist-packages (from tensorflow<3.0,>=2.2->keras_flops) (2.0.1)\n",
      "Requirement already satisfied: setuptools in /usr/local/lib/python3.7/dist-packages (from tensorflow<3.0,>=2.2->keras_flops) (57.4.0)\n",
      "Requirement already satisfied: tensorflow-estimator<2.10.0,>=2.9.0rc0 in /usr/local/lib/python3.7/dist-packages (from tensorflow<3.0,>=2.2->keras_flops) (2.9.0)\n",
      "Requirement already satisfied: google-pasta>=0.1.1 in /usr/local/lib/python3.7/dist-packages (from tensorflow<3.0,>=2.2->keras_flops) (0.2.0)\n",
      "Requirement already satisfied: grpcio<2.0,>=1.24.3 in /usr/local/lib/python3.7/dist-packages (from tensorflow<3.0,>=2.2->keras_flops) (1.50.0)\n",
      "Requirement already satisfied: astunparse>=1.6.0 in /usr/local/lib/python3.7/dist-packages (from tensorflow<3.0,>=2.2->keras_flops) (1.6.3)\n",
      "Requirement already satisfied: wheel<1.0,>=0.23.0 in /usr/local/lib/python3.7/dist-packages (from astunparse>=1.6.0->tensorflow<3.0,>=2.2->keras_flops) (0.37.1)\n",
      "Requirement already satisfied: cached-property in /usr/local/lib/python3.7/dist-packages (from h5py>=2.9.0->tensorflow<3.0,>=2.2->keras_flops) (1.5.2)\n",
      "Requirement already satisfied: werkzeug>=1.0.1 in /usr/local/lib/python3.7/dist-packages (from tensorboard<2.10,>=2.9->tensorflow<3.0,>=2.2->keras_flops) (1.0.1)\n",
      "Requirement already satisfied: markdown>=2.6.8 in /usr/local/lib/python3.7/dist-packages (from tensorboard<2.10,>=2.9->tensorflow<3.0,>=2.2->keras_flops) (3.4.1)\n",
      "Requirement already satisfied: requests<3,>=2.21.0 in /usr/local/lib/python3.7/dist-packages (from tensorboard<2.10,>=2.9->tensorflow<3.0,>=2.2->keras_flops) (2.23.0)\n",
      "Requirement already satisfied: google-auth<3,>=1.6.3 in /usr/local/lib/python3.7/dist-packages (from tensorboard<2.10,>=2.9->tensorflow<3.0,>=2.2->keras_flops) (1.35.0)\n",
      "Requirement already satisfied: tensorboard-plugin-wit>=1.6.0 in /usr/local/lib/python3.7/dist-packages (from tensorboard<2.10,>=2.9->tensorflow<3.0,>=2.2->keras_flops) (1.8.1)\n",
      "Requirement already satisfied: google-auth-oauthlib<0.5,>=0.4.1 in /usr/local/lib/python3.7/dist-packages (from tensorboard<2.10,>=2.9->tensorflow<3.0,>=2.2->keras_flops) (0.4.6)\n",
      "Requirement already satisfied: tensorboard-data-server<0.7.0,>=0.6.0 in /usr/local/lib/python3.7/dist-packages (from tensorboard<2.10,>=2.9->tensorflow<3.0,>=2.2->keras_flops) (0.6.1)\n",
      "Requirement already satisfied: rsa<5,>=3.1.4 in /usr/local/lib/python3.7/dist-packages (from google-auth<3,>=1.6.3->tensorboard<2.10,>=2.9->tensorflow<3.0,>=2.2->keras_flops) (4.9)\n",
      "Requirement already satisfied: cachetools<5.0,>=2.0.0 in /usr/local/lib/python3.7/dist-packages (from google-auth<3,>=1.6.3->tensorboard<2.10,>=2.9->tensorflow<3.0,>=2.2->keras_flops) (4.2.4)\n",
      "Requirement already satisfied: pyasn1-modules>=0.2.1 in /usr/local/lib/python3.7/dist-packages (from google-auth<3,>=1.6.3->tensorboard<2.10,>=2.9->tensorflow<3.0,>=2.2->keras_flops) (0.2.8)\n",
      "Requirement already satisfied: requests-oauthlib>=0.7.0 in /usr/local/lib/python3.7/dist-packages (from google-auth-oauthlib<0.5,>=0.4.1->tensorboard<2.10,>=2.9->tensorflow<3.0,>=2.2->keras_flops) (1.3.1)\n",
      "Requirement already satisfied: importlib-metadata>=4.4 in /usr/local/lib/python3.7/dist-packages (from markdown>=2.6.8->tensorboard<2.10,>=2.9->tensorflow<3.0,>=2.2->keras_flops) (4.13.0)\n",
      "Requirement already satisfied: zipp>=0.5 in /usr/local/lib/python3.7/dist-packages (from importlib-metadata>=4.4->markdown>=2.6.8->tensorboard<2.10,>=2.9->tensorflow<3.0,>=2.2->keras_flops) (3.9.0)\n",
      "Requirement already satisfied: pyasn1<0.5.0,>=0.4.6 in /usr/local/lib/python3.7/dist-packages (from pyasn1-modules>=0.2.1->google-auth<3,>=1.6.3->tensorboard<2.10,>=2.9->tensorflow<3.0,>=2.2->keras_flops) (0.4.8)\n",
      "Requirement already satisfied: urllib3!=1.25.0,!=1.25.1,<1.26,>=1.21.1 in /usr/local/lib/python3.7/dist-packages (from requests<3,>=2.21.0->tensorboard<2.10,>=2.9->tensorflow<3.0,>=2.2->keras_flops) (1.24.3)\n",
      "Requirement already satisfied: idna<3,>=2.5 in /usr/local/lib/python3.7/dist-packages (from requests<3,>=2.21.0->tensorboard<2.10,>=2.9->tensorflow<3.0,>=2.2->keras_flops) (2.10)\n",
      "Requirement already satisfied: certifi>=2017.4.17 in /usr/local/lib/python3.7/dist-packages (from requests<3,>=2.21.0->tensorboard<2.10,>=2.9->tensorflow<3.0,>=2.2->keras_flops) (2022.9.24)\n",
      "Requirement already satisfied: chardet<4,>=3.0.2 in /usr/local/lib/python3.7/dist-packages (from requests<3,>=2.21.0->tensorboard<2.10,>=2.9->tensorflow<3.0,>=2.2->keras_flops) (3.0.4)\n",
      "Requirement already satisfied: oauthlib>=3.0.0 in /usr/local/lib/python3.7/dist-packages (from requests-oauthlib>=0.7.0->google-auth-oauthlib<0.5,>=0.4.1->tensorboard<2.10,>=2.9->tensorflow<3.0,>=2.2->keras_flops) (3.2.2)\n",
      "Requirement already satisfied: pyparsing!=3.0.5,>=2.0.2 in /usr/local/lib/python3.7/dist-packages (from packaging->tensorflow<3.0,>=2.2->keras_flops) (3.0.9)\n",
      "cnn model summary\n",
      "Model: \"sequential\"\n",
      "_________________________________________________________________\n",
      " Layer (type)                Output Shape              Param #   \n",
      "=================================================================\n",
      " conv2d (Conv2D)             (None, 26, 26, 32)        320       \n",
      "                                                                 \n",
      " max_pooling2d (MaxPooling2D  (None, 25, 25, 32)       0         \n",
      " )                                                               \n",
      "                                                                 \n",
      " conv2d_1 (Conv2D)           (None, 23, 23, 64)        18496     \n",
      "                                                                 \n",
      " max_pooling2d_1 (MaxPooling  (None, 11, 11, 64)       0         \n",
      " 2D)                                                             \n",
      "                                                                 \n",
      " flatten (Flatten)           (None, 7744)              0         \n",
      "                                                                 \n",
      " dropout (Dropout)           (None, 7744)              0         \n",
      "                                                                 \n",
      " dense (Dense)               (None, 128)               991360    \n",
      "                                                                 \n",
      " dropout_1 (Dropout)         (None, 128)               0         \n",
      "                                                                 \n",
      " dense_1 (Dense)             (None, 10)                1290      \n",
      "                                                                 \n",
      "=================================================================\n",
      "Total params: 1,011,466\n",
      "Trainable params: 1,011,466\n",
      "Non-trainable params: 0\n",
      "_________________________________________________________________\n",
      "fc model summary\n",
      "Model: \"sequential_7\"\n",
      "_________________________________________________________________\n",
      " Layer (type)                Output Shape              Param #   \n",
      "=================================================================\n",
      " flatten_7 (Flatten)         (None, 784)               0         \n",
      "                                                                 \n",
      " dense_20 (Dense)            (None, 784)               615440    \n",
      "                                                                 \n",
      " dense_21 (Dense)            (None, 784)               615440    \n",
      "                                                                 \n",
      " dense_22 (Dense)            (None, 10)                7850      \n",
      "                                                                 \n",
      "=================================================================\n",
      "Total params: 1,238,730\n",
      "Trainable params: 1,238,730\n",
      "Non-trainable params: 0\n",
      "_________________________________________________________________\n",
      "FLOPs for cnn model is 22042058\n",
      "FLOPs for fc model is 2475882\n"
     ]
    }
   ],
   "source": [
    "!pip install keras_flops\n",
    "from keras_flops import get_flops\n",
    "tf.compat.v1.logging.set_verbosity(tf.compat.v1.logging.ERROR)\n",
    "print('cnn model summary')\n",
    "cnn_model.summary()\n",
    "print('fc model summary')\n",
    "fc_model.summary()\n",
    "flops = get_flops(cnn_model, batch_size=1)\n",
    "print('FLOPs for cnn model is {}'.format(flops))\n",
    "flops = get_flops(fc_model, batch_size=1)\n",
    "print('FLOPs for fc model is {}'.format(flops))"
   ]
  },
  {
   "cell_type": "markdown",
   "metadata": {
    "id": "KjwJ5oziRvRn"
   },
   "source": [
    "# Implementing the state-of-the-art KD algorithm"
   ]
  },
  {
   "cell_type": "code",
   "execution_count": 25,
   "metadata": {
    "colab": {
     "base_uri": "https://localhost:8080/"
    },
    "id": "q10lybAFRvZt",
    "outputId": "030cf8ec-c3df-4dbb-a4a3-f19f01c0a1d4"
   },
   "outputs": [
    {
     "name": "stdout",
     "output_type": "stream",
     "text": [
      "Start training teacher model using subclass distallation\n",
      "Epoch 1: Epoch 2: Epoch 3: Epoch 4: Epoch 5: Epoch 6: Epoch 7: Epoch 8: Epoch 9: Epoch 10: Epoch 11: Epoch 12: Class_accuracy: 99.49%\n",
      "Test accuracy for teacher model is 99.49000000000001\n",
      "-------------------------------------\n",
      "Start training student model using subclass distallation\n",
      "16\n",
      "Epoch 1: Epoch 2: Epoch 3: Epoch 4: Epoch 5: Epoch 6: Epoch 7: Epoch 8: Epoch 9: Epoch 10: Epoch 11: Epoch 12: Class_accuracy: 99.12%\n",
      "Test accuracy for student model is 99.12\n"
     ]
    }
   ],
   "source": [
    "DISTILLATION_TEMPERATURE = 16\n",
    "learning_rate = 1e-3\n",
    "# your code start from here for step 12\n",
    "cnn_model_SbD = tf.keras.Sequential([l.Conv2D(input_shape=(28,28,1), filters=32, kernel_size=3, strides=1, activation='relu'),\n",
    "                                l.MaxPooling2D(pool_size=(2, 2), strides=(1, 1), padding='valid'),\n",
    "                                l.Conv2D(input_shape=(28,28,1), filters=64, kernel_size=3, strides=1, activation='relu'),\n",
    "                                l.MaxPooling2D(pool_size=(2, 2), strides=(2, 2), padding='valid'),\n",
    "                                l.Flatten(),\n",
    "                                l.Dropout(0.5),\n",
    "                                l.Dense(128, activation='relu'),\n",
    "                                l.Dropout(0.5),\n",
    "                                l.Dense(NUM_CLASSES+5)])\n",
    "                                \n",
    "\n",
    "# your code start from here for stpe 2\n",
    "# Build fully connected student.\n",
    "fc_model_SbD = tf.keras.Sequential([l.Flatten(),\n",
    "                                l.Dense(784, activation='relu'),\n",
    "                                l.Dense(784, activation='relu'),\n",
    "                                l.Dense(NUM_CLASSES+5)])\n",
    "\n",
    "def compute_teacher_loss_SbD(images, labels):     \n",
    "        \n",
    "    subclass_logits_Z = cnn_model_SbD(images, training=True)\n",
    "    subclass_logits_P = tf.nn.softmax(subclass_logits_Z)\n",
    "    subclass_logits_P_sumed = tf_reduceat(subclass_logits_P, [2, 2, 1, 1, 1, 1, 2, 2, 1, 2])\n",
    "    \n",
    "    cee = tf.keras.losses.CategoricalCrossentropy()\n",
    "    cross_entropy_loss_value = cee(labels, subclass_logits_P_sumed)\n",
    "    temperature =50\n",
    "    BETA = 0.4\n",
    "    \n",
    "    def Auxiliary_loss(subclass_logits_Z, temperature):\n",
    "        mean = tf.math.reduce_mean(subclass_logits_Z, axis = 1)\n",
    "        var = tf.math.reduce_variance(subclass_logits_Z, axis = 1)\n",
    "        normalizer = tf.keras.layers.Normalization(axis=0, mean=mean, variance=var)\n",
    "        subclass_logits_Z = normalizer(subclass_logits_Z)\n",
    "\n",
    "        subclass_logits_Z_transposed = tf.transpose(subclass_logits_Z)\n",
    "        logics_vectors = tf.matmul(subclass_logits_Z, subclass_logits_Z_transposed)\n",
    "        logics_vectors /= temperature\n",
    "        exp_values = tf.math.exp(logics_vectors)\n",
    "        log_term = tf.reduce_sum(exp_values, 1)\n",
    "        log_results = tf.math.log(log_term)\n",
    "        log_results -= (1/temperature)\n",
    "        log_results -= math.log(BATCH_SIZE)\n",
    "        auxiliary_loss = tf.reduce_mean(log_results)\n",
    "        return auxiliary_loss\n",
    "    \n",
    "    auxiliary_loss = Auxiliary_loss(subclass_logits_Z, temperature)\n",
    "    teacher_loss = cross_entropy_loss_value + BETA * auxiliary_loss\n",
    "    return teacher_loss\n",
    "\n",
    "def distillation_loss_SbD(teacher_logits, student_logits, temperature = DISTILLATION_TEMPERATURE):\n",
    "\n",
    "    soft_targets = tf.nn.softmax(teacher_logits/temperature, axis = 1)\n",
    "    \n",
    "    return tf.reduce_mean(\n",
    "      tf.nn.softmax_cross_entropy_with_logits(\n",
    "          soft_targets, student_logits / temperature)) * temperature ** 2\n",
    "\n",
    "def compute_student_loss_SbD(images, labels):\n",
    "\n",
    "    student_subclass_logits_Z = fc_model_SbD(images, training=True)\n",
    "\n",
    "    teacher_subclass_logits_Z = cnn_model_SbD(images, training=False)\n",
    "    \n",
    "    student_subclass_logits_P = tf.nn.softmax(student_subclass_logits_Z)\n",
    "    student_subclass_logits_P_sumed = tf_reduceat(student_subclass_logits_P, [2, 2, 1, 1, 1, 1, 2, 2, 1, 2])\n",
    "    \n",
    "    cee = tf.keras.losses.CategoricalCrossentropy()\n",
    "    cross_entropy_loss_value = cee(labels, student_subclass_logits_P_sumed)\n",
    "    \n",
    "    distillation_loss_value = distillation_loss_SbD(teacher_subclass_logits_Z, student_subclass_logits_Z, DISTILLATION_TEMPERATURE)\n",
    "\n",
    "    student_loss = cross_entropy_loss_value * ALPHA + (1 - ALPHA) * distillation_loss_value\n",
    "\n",
    "    return student_loss\n",
    "\n",
    "# your code start from here for step 5 \n",
    "print('Start training teacher model using subclass distallation')\n",
    "test_acc_cnn = train_and_evaluate(cnn_model_SbD, compute_teacher_loss_SbD, learning_rate)\n",
    "print('Test accuracy for teacher model is {}'.format(test_acc_cnn))\n",
    "print('-------------------------------------')\n",
    "print('Start training student model using subclass distallation')\n",
    "print(DISTILLATION_TEMPERATURE)\n",
    "test_acc_fc = train_and_evaluate(fc_model_SbD, compute_student_loss_SbD, learning_rate)\n",
    "print('Test accuracy for student model is {}'.format(test_acc_fc))"
   ]
  },
  {
   "cell_type": "markdown",
   "metadata": {
    "id": "6dsOmtqdieIC"
   },
   "source": [
    "# (Optional) XAI method to explain models"
   ]
  },
  {
   "cell_type": "code",
   "execution_count": null,
   "metadata": {
    "id": "X0IMIFW8ilPO"
   },
   "outputs": [],
   "source": [
    "# your code start from here for step 13\n",
    "        \n",
    "    \n"
   ]
  }
 ],
 "metadata": {
  "accelerator": "GPU",
  "colab": {
   "collapsed_sections": [],
   "provenance": []
  },
  "gpuClass": "standard",
  "kernelspec": {
   "display_name": "Python 3 (ipykernel)",
   "language": "python",
   "name": "python3"
  },
  "language_info": {
   "codemirror_mode": {
    "name": "ipython",
    "version": 3
   },
   "file_extension": ".py",
   "mimetype": "text/x-python",
   "name": "python",
   "nbconvert_exporter": "python",
   "pygments_lexer": "ipython3",
   "version": "3.10.4"
  },
  "widgets": {
   "application/vnd.jupyter.widget-state+json": {
    "00e69fae76e04e2e96769c640529d8d5": {
     "model_module": "@jupyter-widgets/controls",
     "model_module_version": "1.5.0",
     "model_name": "DescriptionStyleModel",
     "state": {
      "_model_module": "@jupyter-widgets/controls",
      "_model_module_version": "1.5.0",
      "_model_name": "DescriptionStyleModel",
      "_view_count": null,
      "_view_module": "@jupyter-widgets/base",
      "_view_module_version": "1.2.0",
      "_view_name": "StyleView",
      "description_width": ""
     }
    },
    "180de5e74f3a4584808d3eb2668bb850": {
     "model_module": "@jupyter-widgets/base",
     "model_module_version": "1.2.0",
     "model_name": "LayoutModel",
     "state": {
      "_model_module": "@jupyter-widgets/base",
      "_model_module_version": "1.2.0",
      "_model_name": "LayoutModel",
      "_view_count": null,
      "_view_module": "@jupyter-widgets/base",
      "_view_module_version": "1.2.0",
      "_view_name": "LayoutView",
      "align_content": null,
      "align_items": null,
      "align_self": null,
      "border": null,
      "bottom": null,
      "display": null,
      "flex": null,
      "flex_flow": null,
      "grid_area": null,
      "grid_auto_columns": null,
      "grid_auto_flow": null,
      "grid_auto_rows": null,
      "grid_column": null,
      "grid_gap": null,
      "grid_row": null,
      "grid_template_areas": null,
      "grid_template_columns": null,
      "grid_template_rows": null,
      "height": null,
      "justify_content": null,
      "justify_items": null,
      "left": null,
      "margin": null,
      "max_height": null,
      "max_width": null,
      "min_height": null,
      "min_width": null,
      "object_fit": null,
      "object_position": null,
      "order": null,
      "overflow": null,
      "overflow_x": null,
      "overflow_y": null,
      "padding": null,
      "right": null,
      "top": null,
      "visibility": null,
      "width": null
     }
    },
    "1fbb0858fffe46bb8a319b18b3923beb": {
     "model_module": "@jupyter-widgets/controls",
     "model_module_version": "1.5.0",
     "model_name": "HBoxModel",
     "state": {
      "_dom_classes": [],
      "_model_module": "@jupyter-widgets/controls",
      "_model_module_version": "1.5.0",
      "_model_name": "HBoxModel",
      "_view_count": null,
      "_view_module": "@jupyter-widgets/controls",
      "_view_module_version": "1.5.0",
      "_view_name": "HBoxView",
      "box_style": "",
      "children": [
       "IPY_MODEL_ad60e87297a94b24a4c0d44161889024",
       "IPY_MODEL_6b60482068ee4f359a1f0850fce13c11",
       "IPY_MODEL_d5af779547be4036b9fa0a61fc489965"
      ],
      "layout": "IPY_MODEL_c26d60906d634a4699c7d9bf7bf3054c"
     }
    },
    "4604af314e91425e83abbe3361246ec5": {
     "model_module": "@jupyter-widgets/controls",
     "model_module_version": "1.5.0",
     "model_name": "ProgressStyleModel",
     "state": {
      "_model_module": "@jupyter-widgets/controls",
      "_model_module_version": "1.5.0",
      "_model_name": "ProgressStyleModel",
      "_view_count": null,
      "_view_module": "@jupyter-widgets/base",
      "_view_module_version": "1.2.0",
      "_view_name": "StyleView",
      "bar_color": null,
      "description_width": ""
     }
    },
    "4990887cab864d449e8a9363eff9b450": {
     "model_module": "@jupyter-widgets/base",
     "model_module_version": "1.2.0",
     "model_name": "LayoutModel",
     "state": {
      "_model_module": "@jupyter-widgets/base",
      "_model_module_version": "1.2.0",
      "_model_name": "LayoutModel",
      "_view_count": null,
      "_view_module": "@jupyter-widgets/base",
      "_view_module_version": "1.2.0",
      "_view_name": "LayoutView",
      "align_content": null,
      "align_items": null,
      "align_self": null,
      "border": null,
      "bottom": null,
      "display": null,
      "flex": null,
      "flex_flow": null,
      "grid_area": null,
      "grid_auto_columns": null,
      "grid_auto_flow": null,
      "grid_auto_rows": null,
      "grid_column": null,
      "grid_gap": null,
      "grid_row": null,
      "grid_template_areas": null,
      "grid_template_columns": null,
      "grid_template_rows": null,
      "height": null,
      "justify_content": null,
      "justify_items": null,
      "left": null,
      "margin": null,
      "max_height": null,
      "max_width": null,
      "min_height": null,
      "min_width": null,
      "object_fit": null,
      "object_position": null,
      "order": null,
      "overflow": null,
      "overflow_x": null,
      "overflow_y": null,
      "padding": null,
      "right": null,
      "top": null,
      "visibility": null,
      "width": null
     }
    },
    "6b60482068ee4f359a1f0850fce13c11": {
     "model_module": "@jupyter-widgets/controls",
     "model_module_version": "1.5.0",
     "model_name": "FloatProgressModel",
     "state": {
      "_dom_classes": [],
      "_model_module": "@jupyter-widgets/controls",
      "_model_module_version": "1.5.0",
      "_model_name": "FloatProgressModel",
      "_view_count": null,
      "_view_module": "@jupyter-widgets/controls",
      "_view_module_version": "1.5.0",
      "_view_name": "ProgressView",
      "bar_style": "success",
      "description": "",
      "description_tooltip": null,
      "layout": "IPY_MODEL_180de5e74f3a4584808d3eb2668bb850",
      "max": 4,
      "min": 0,
      "orientation": "horizontal",
      "style": "IPY_MODEL_4604af314e91425e83abbe3361246ec5",
      "value": 4
     }
    },
    "ad60e87297a94b24a4c0d44161889024": {
     "model_module": "@jupyter-widgets/controls",
     "model_module_version": "1.5.0",
     "model_name": "HTMLModel",
     "state": {
      "_dom_classes": [],
      "_model_module": "@jupyter-widgets/controls",
      "_model_module_version": "1.5.0",
      "_model_name": "HTMLModel",
      "_view_count": null,
      "_view_module": "@jupyter-widgets/controls",
      "_view_module_version": "1.5.0",
      "_view_name": "HTMLView",
      "description": "",
      "description_tooltip": null,
      "layout": "IPY_MODEL_4990887cab864d449e8a9363eff9b450",
      "placeholder": "​",
      "style": "IPY_MODEL_00e69fae76e04e2e96769c640529d8d5",
      "value": "Dl Completed...: 100%"
     }
    },
    "c26d60906d634a4699c7d9bf7bf3054c": {
     "model_module": "@jupyter-widgets/base",
     "model_module_version": "1.2.0",
     "model_name": "LayoutModel",
     "state": {
      "_model_module": "@jupyter-widgets/base",
      "_model_module_version": "1.2.0",
      "_model_name": "LayoutModel",
      "_view_count": null,
      "_view_module": "@jupyter-widgets/base",
      "_view_module_version": "1.2.0",
      "_view_name": "LayoutView",
      "align_content": null,
      "align_items": null,
      "align_self": null,
      "border": null,
      "bottom": null,
      "display": null,
      "flex": null,
      "flex_flow": null,
      "grid_area": null,
      "grid_auto_columns": null,
      "grid_auto_flow": null,
      "grid_auto_rows": null,
      "grid_column": null,
      "grid_gap": null,
      "grid_row": null,
      "grid_template_areas": null,
      "grid_template_columns": null,
      "grid_template_rows": null,
      "height": null,
      "justify_content": null,
      "justify_items": null,
      "left": null,
      "margin": null,
      "max_height": null,
      "max_width": null,
      "min_height": null,
      "min_width": null,
      "object_fit": null,
      "object_position": null,
      "order": null,
      "overflow": null,
      "overflow_x": null,
      "overflow_y": null,
      "padding": null,
      "right": null,
      "top": null,
      "visibility": null,
      "width": null
     }
    },
    "c9528900512c46aa9f2a5663c5c7181b": {
     "model_module": "@jupyter-widgets/controls",
     "model_module_version": "1.5.0",
     "model_name": "DescriptionStyleModel",
     "state": {
      "_model_module": "@jupyter-widgets/controls",
      "_model_module_version": "1.5.0",
      "_model_name": "DescriptionStyleModel",
      "_view_count": null,
      "_view_module": "@jupyter-widgets/base",
      "_view_module_version": "1.2.0",
      "_view_name": "StyleView",
      "description_width": ""
     }
    },
    "d2d352ab14654b83b36b955083374158": {
     "model_module": "@jupyter-widgets/base",
     "model_module_version": "1.2.0",
     "model_name": "LayoutModel",
     "state": {
      "_model_module": "@jupyter-widgets/base",
      "_model_module_version": "1.2.0",
      "_model_name": "LayoutModel",
      "_view_count": null,
      "_view_module": "@jupyter-widgets/base",
      "_view_module_version": "1.2.0",
      "_view_name": "LayoutView",
      "align_content": null,
      "align_items": null,
      "align_self": null,
      "border": null,
      "bottom": null,
      "display": null,
      "flex": null,
      "flex_flow": null,
      "grid_area": null,
      "grid_auto_columns": null,
      "grid_auto_flow": null,
      "grid_auto_rows": null,
      "grid_column": null,
      "grid_gap": null,
      "grid_row": null,
      "grid_template_areas": null,
      "grid_template_columns": null,
      "grid_template_rows": null,
      "height": null,
      "justify_content": null,
      "justify_items": null,
      "left": null,
      "margin": null,
      "max_height": null,
      "max_width": null,
      "min_height": null,
      "min_width": null,
      "object_fit": null,
      "object_position": null,
      "order": null,
      "overflow": null,
      "overflow_x": null,
      "overflow_y": null,
      "padding": null,
      "right": null,
      "top": null,
      "visibility": null,
      "width": null
     }
    },
    "d5af779547be4036b9fa0a61fc489965": {
     "model_module": "@jupyter-widgets/controls",
     "model_module_version": "1.5.0",
     "model_name": "HTMLModel",
     "state": {
      "_dom_classes": [],
      "_model_module": "@jupyter-widgets/controls",
      "_model_module_version": "1.5.0",
      "_model_name": "HTMLModel",
      "_view_count": null,
      "_view_module": "@jupyter-widgets/controls",
      "_view_module_version": "1.5.0",
      "_view_name": "HTMLView",
      "description": "",
      "description_tooltip": null,
      "layout": "IPY_MODEL_d2d352ab14654b83b36b955083374158",
      "placeholder": "​",
      "style": "IPY_MODEL_c9528900512c46aa9f2a5663c5c7181b",
      "value": " 4/4 [00:00&lt;00:00,  5.72 file/s]"
     }
    }
   }
  }
 },
 "nbformat": 4,
 "nbformat_minor": 1
}
